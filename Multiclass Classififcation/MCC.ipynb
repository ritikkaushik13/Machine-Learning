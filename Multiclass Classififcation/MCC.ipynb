{
 "cells": [
  {
   "cell_type": "markdown",
   "metadata": {},
   "source": [
    "## Step 1: Import Libraries\n",
    "\n",
    "The following libraries are imported:\n",
    "- **NumPy**: For numerical computations.\n",
    "- **Pandas**: For data manipulation and analysis.\n",
    "- **Matplotlib** and **Seaborn**: For data visualization.\n",
    "- **scikit-learn**:\n",
    "  - For data preprocessing (splitting, scaling, and encoding).\n",
    "  - For implementing Logistic Regression for multi-class classification.\n",
    "  - For evaluating model performance.\n"
   ]
  },
  {
   "cell_type": "code",
   "execution_count": 1,
   "metadata": {},
   "outputs": [],
   "source": [
    "# Import required libraries\n",
    "import numpy as np\n",
    "import pandas as pd\n",
    "import matplotlib.pyplot as plt\n",
    "import seaborn as sns\n",
    "from sklearn.model_selection import train_test_split\n",
    "from sklearn.preprocessing import StandardScaler, LabelEncoder\n",
    "from sklearn.linear_model import LogisticRegression\n",
    "from sklearn.metrics import confusion_matrix, accuracy_score"
   ]
  },
  {
   "cell_type": "markdown",
   "metadata": {},
   "source": []
  },
  {
   "cell_type": "markdown",
   "metadata": {},
   "source": [
    "## Step 2: Load the Dataset\n",
    "\n",
    "The dataset is loaded using **Pandas**.  \n",
    "Ensure the dataset contains:\n",
    "- Features (independent variables).\n",
    "- A multi-class target variable (e.g., classes like \"A\", \"B\", \"C\").\n",
    "\n",
    "The first few rows of the dataset are displayed to understand its structure.\n"
   ]
  },
  {
   "cell_type": "code",
   "execution_count": 2,
   "metadata": {},
   "outputs": [],
   "source": [
    "data = pd.read_csv('obesity.csv')"
   ]
  },
  {
   "cell_type": "code",
   "execution_count": 3,
   "metadata": {},
   "outputs": [
    {
     "data": {
      "text/html": [
       "<div>\n",
       "<style scoped>\n",
       "    .dataframe tbody tr th:only-of-type {\n",
       "        vertical-align: middle;\n",
       "    }\n",
       "\n",
       "    .dataframe tbody tr th {\n",
       "        vertical-align: top;\n",
       "    }\n",
       "\n",
       "    .dataframe thead th {\n",
       "        text-align: right;\n",
       "    }\n",
       "</style>\n",
       "<table border=\"1\" class=\"dataframe\">\n",
       "  <thead>\n",
       "    <tr style=\"text-align: right;\">\n",
       "      <th></th>\n",
       "      <th>Height</th>\n",
       "      <th>Weight</th>\n",
       "      <th>family_history_with_overweight</th>\n",
       "      <th>SCC</th>\n",
       "      <th>MTRANS_Walking</th>\n",
       "      <th>FAVC_z</th>\n",
       "      <th>FCVC_minmax</th>\n",
       "      <th>NCP_z</th>\n",
       "      <th>CAEC_minmax</th>\n",
       "      <th>CH2O_minmax</th>\n",
       "      <th>FAF_minmax</th>\n",
       "      <th>TUE_z</th>\n",
       "      <th>CALC_z</th>\n",
       "      <th>Age_bin_minmax</th>\n",
       "      <th>NObeyesdad</th>\n",
       "    </tr>\n",
       "  </thead>\n",
       "  <tbody>\n",
       "    <tr>\n",
       "      <th>0</th>\n",
       "      <td>1.62</td>\n",
       "      <td>64.0</td>\n",
       "      <td>1</td>\n",
       "      <td>0</td>\n",
       "      <td>0</td>\n",
       "      <td>2.766876</td>\n",
       "      <td>0.5</td>\n",
       "      <td>0.404704</td>\n",
       "      <td>0.333333</td>\n",
       "      <td>0.5</td>\n",
       "      <td>0.000000</td>\n",
       "      <td>0.550985</td>\n",
       "      <td>1.439033</td>\n",
       "      <td>0.25</td>\n",
       "      <td>1</td>\n",
       "    </tr>\n",
       "    <tr>\n",
       "      <th>1</th>\n",
       "      <td>1.52</td>\n",
       "      <td>56.0</td>\n",
       "      <td>1</td>\n",
       "      <td>1</td>\n",
       "      <td>0</td>\n",
       "      <td>2.766876</td>\n",
       "      <td>1.0</td>\n",
       "      <td>0.404704</td>\n",
       "      <td>0.333333</td>\n",
       "      <td>1.0</td>\n",
       "      <td>1.000000</td>\n",
       "      <td>1.092724</td>\n",
       "      <td>0.516552</td>\n",
       "      <td>0.25</td>\n",
       "      <td>1</td>\n",
       "    </tr>\n",
       "    <tr>\n",
       "      <th>2</th>\n",
       "      <td>1.80</td>\n",
       "      <td>77.0</td>\n",
       "      <td>1</td>\n",
       "      <td>0</td>\n",
       "      <td>0</td>\n",
       "      <td>2.766876</td>\n",
       "      <td>0.5</td>\n",
       "      <td>0.404704</td>\n",
       "      <td>0.333333</td>\n",
       "      <td>0.5</td>\n",
       "      <td>0.666667</td>\n",
       "      <td>0.550985</td>\n",
       "      <td>2.472136</td>\n",
       "      <td>0.50</td>\n",
       "      <td>1</td>\n",
       "    </tr>\n",
       "    <tr>\n",
       "      <th>3</th>\n",
       "      <td>1.80</td>\n",
       "      <td>87.0</td>\n",
       "      <td>0</td>\n",
       "      <td>0</td>\n",
       "      <td>1</td>\n",
       "      <td>2.766876</td>\n",
       "      <td>1.0</td>\n",
       "      <td>0.404704</td>\n",
       "      <td>0.333333</td>\n",
       "      <td>0.5</td>\n",
       "      <td>0.666667</td>\n",
       "      <td>1.092724</td>\n",
       "      <td>2.472136</td>\n",
       "      <td>0.75</td>\n",
       "      <td>2</td>\n",
       "    </tr>\n",
       "    <tr>\n",
       "      <th>4</th>\n",
       "      <td>1.78</td>\n",
       "      <td>89.8</td>\n",
       "      <td>0</td>\n",
       "      <td>0</td>\n",
       "      <td>0</td>\n",
       "      <td>2.766876</td>\n",
       "      <td>0.5</td>\n",
       "      <td>2.164116</td>\n",
       "      <td>0.333333</td>\n",
       "      <td>0.5</td>\n",
       "      <td>0.000000</td>\n",
       "      <td>1.092724</td>\n",
       "      <td>0.516552</td>\n",
       "      <td>0.50</td>\n",
       "      <td>3</td>\n",
       "    </tr>\n",
       "    <tr>\n",
       "      <th>5</th>\n",
       "      <td>1.62</td>\n",
       "      <td>53.0</td>\n",
       "      <td>0</td>\n",
       "      <td>0</td>\n",
       "      <td>0</td>\n",
       "      <td>0.361418</td>\n",
       "      <td>0.5</td>\n",
       "      <td>0.404704</td>\n",
       "      <td>0.333333</td>\n",
       "      <td>0.5</td>\n",
       "      <td>0.000000</td>\n",
       "      <td>1.092724</td>\n",
       "      <td>0.516552</td>\n",
       "      <td>1.00</td>\n",
       "      <td>1</td>\n",
       "    </tr>\n",
       "    <tr>\n",
       "      <th>6</th>\n",
       "      <td>1.50</td>\n",
       "      <td>55.0</td>\n",
       "      <td>1</td>\n",
       "      <td>0</td>\n",
       "      <td>0</td>\n",
       "      <td>0.361418</td>\n",
       "      <td>1.0</td>\n",
       "      <td>0.404704</td>\n",
       "      <td>0.333333</td>\n",
       "      <td>0.5</td>\n",
       "      <td>0.333333</td>\n",
       "      <td>1.092724</td>\n",
       "      <td>0.516552</td>\n",
       "      <td>0.50</td>\n",
       "      <td>1</td>\n",
       "    </tr>\n",
       "    <tr>\n",
       "      <th>7</th>\n",
       "      <td>1.64</td>\n",
       "      <td>53.0</td>\n",
       "      <td>0</td>\n",
       "      <td>0</td>\n",
       "      <td>0</td>\n",
       "      <td>2.766876</td>\n",
       "      <td>0.5</td>\n",
       "      <td>0.404704</td>\n",
       "      <td>0.333333</td>\n",
       "      <td>0.5</td>\n",
       "      <td>1.000000</td>\n",
       "      <td>1.092724</td>\n",
       "      <td>0.516552</td>\n",
       "      <td>0.50</td>\n",
       "      <td>1</td>\n",
       "    </tr>\n",
       "    <tr>\n",
       "      <th>8</th>\n",
       "      <td>1.78</td>\n",
       "      <td>64.0</td>\n",
       "      <td>1</td>\n",
       "      <td>0</td>\n",
       "      <td>0</td>\n",
       "      <td>0.361418</td>\n",
       "      <td>1.0</td>\n",
       "      <td>0.404704</td>\n",
       "      <td>0.333333</td>\n",
       "      <td>0.5</td>\n",
       "      <td>0.333333</td>\n",
       "      <td>0.550985</td>\n",
       "      <td>2.472136</td>\n",
       "      <td>0.75</td>\n",
       "      <td>1</td>\n",
       "    </tr>\n",
       "    <tr>\n",
       "      <th>9</th>\n",
       "      <td>1.72</td>\n",
       "      <td>68.0</td>\n",
       "      <td>1</td>\n",
       "      <td>0</td>\n",
       "      <td>0</td>\n",
       "      <td>0.361418</td>\n",
       "      <td>0.5</td>\n",
       "      <td>0.404704</td>\n",
       "      <td>0.333333</td>\n",
       "      <td>0.5</td>\n",
       "      <td>0.333333</td>\n",
       "      <td>0.550985</td>\n",
       "      <td>1.439033</td>\n",
       "      <td>0.50</td>\n",
       "      <td>1</td>\n",
       "    </tr>\n",
       "  </tbody>\n",
       "</table>\n",
       "</div>"
      ],
      "text/plain": [
       "   Height  Weight  family_history_with_overweight  SCC  MTRANS_Walking  \\\n",
       "0    1.62    64.0                               1    0               0   \n",
       "1    1.52    56.0                               1    1               0   \n",
       "2    1.80    77.0                               1    0               0   \n",
       "3    1.80    87.0                               0    0               1   \n",
       "4    1.78    89.8                               0    0               0   \n",
       "5    1.62    53.0                               0    0               0   \n",
       "6    1.50    55.0                               1    0               0   \n",
       "7    1.64    53.0                               0    0               0   \n",
       "8    1.78    64.0                               1    0               0   \n",
       "9    1.72    68.0                               1    0               0   \n",
       "\n",
       "     FAVC_z  FCVC_minmax     NCP_z  CAEC_minmax  CH2O_minmax  FAF_minmax  \\\n",
       "0  2.766876          0.5  0.404704     0.333333          0.5    0.000000   \n",
       "1  2.766876          1.0  0.404704     0.333333          1.0    1.000000   \n",
       "2  2.766876          0.5  0.404704     0.333333          0.5    0.666667   \n",
       "3  2.766876          1.0  0.404704     0.333333          0.5    0.666667   \n",
       "4  2.766876          0.5  2.164116     0.333333          0.5    0.000000   \n",
       "5  0.361418          0.5  0.404704     0.333333          0.5    0.000000   \n",
       "6  0.361418          1.0  0.404704     0.333333          0.5    0.333333   \n",
       "7  2.766876          0.5  0.404704     0.333333          0.5    1.000000   \n",
       "8  0.361418          1.0  0.404704     0.333333          0.5    0.333333   \n",
       "9  0.361418          0.5  0.404704     0.333333          0.5    0.333333   \n",
       "\n",
       "      TUE_z    CALC_z  Age_bin_minmax  NObeyesdad  \n",
       "0  0.550985  1.439033            0.25           1  \n",
       "1  1.092724  0.516552            0.25           1  \n",
       "2  0.550985  2.472136            0.50           1  \n",
       "3  1.092724  2.472136            0.75           2  \n",
       "4  1.092724  0.516552            0.50           3  \n",
       "5  1.092724  0.516552            1.00           1  \n",
       "6  1.092724  0.516552            0.50           1  \n",
       "7  1.092724  0.516552            0.50           1  \n",
       "8  0.550985  2.472136            0.75           1  \n",
       "9  0.550985  1.439033            0.50           1  "
      ]
     },
     "execution_count": 3,
     "metadata": {},
     "output_type": "execute_result"
    }
   ],
   "source": [
    "data.head(10)"
   ]
  },
  {
   "cell_type": "markdown",
   "metadata": {},
   "source": [
    "## Step 3: Explore and Preprocess the Dataset\n",
    "\n",
    "1. **Check for Missing Values**: Ensure the dataset is clean and ready for analysis.\n",
    "2. **Encode the Target Variable**: Since the target variable contains multiple classes in categorical format (e.g., \"A\", \"B\", \"C\"), **LabelEncoder** is used to convert it into numerical form.\n"
   ]
  },
  {
   "cell_type": "code",
   "execution_count": 4,
   "metadata": {},
   "outputs": [
    {
     "name": "stdout",
     "output_type": "stream",
     "text": [
      "<class 'pandas.core.frame.DataFrame'>\n",
      "RangeIndex: 2086 entries, 0 to 2085\n",
      "Data columns (total 15 columns):\n",
      " #   Column                          Non-Null Count  Dtype  \n",
      "---  ------                          --------------  -----  \n",
      " 0   Height                          2086 non-null   float64\n",
      " 1   Weight                          2086 non-null   float64\n",
      " 2   family_history_with_overweight  2086 non-null   int64  \n",
      " 3   SCC                             2086 non-null   int64  \n",
      " 4   MTRANS_Walking                  2086 non-null   int64  \n",
      " 5   FAVC_z                          2086 non-null   float64\n",
      " 6   FCVC_minmax                     2086 non-null   float64\n",
      " 7   NCP_z                           2086 non-null   float64\n",
      " 8   CAEC_minmax                     2086 non-null   float64\n",
      " 9   CH2O_minmax                     2086 non-null   float64\n",
      " 10  FAF_minmax                      2086 non-null   float64\n",
      " 11  TUE_z                           2086 non-null   float64\n",
      " 12  CALC_z                          2086 non-null   float64\n",
      " 13  Age_bin_minmax                  2086 non-null   float64\n",
      " 14  NObeyesdad                      2086 non-null   int64  \n",
      "dtypes: float64(11), int64(4)\n",
      "memory usage: 244.6 KB\n"
     ]
    }
   ],
   "source": [
    "data.info()"
   ]
  },
  {
   "cell_type": "code",
   "execution_count": 5,
   "metadata": {},
   "outputs": [
    {
     "data": {
      "text/html": [
       "<div>\n",
       "<style scoped>\n",
       "    .dataframe tbody tr th:only-of-type {\n",
       "        vertical-align: middle;\n",
       "    }\n",
       "\n",
       "    .dataframe tbody tr th {\n",
       "        vertical-align: top;\n",
       "    }\n",
       "\n",
       "    .dataframe thead th {\n",
       "        text-align: right;\n",
       "    }\n",
       "</style>\n",
       "<table border=\"1\" class=\"dataframe\">\n",
       "  <thead>\n",
       "    <tr style=\"text-align: right;\">\n",
       "      <th></th>\n",
       "      <th>Height</th>\n",
       "      <th>Weight</th>\n",
       "      <th>family_history_with_overweight</th>\n",
       "      <th>SCC</th>\n",
       "      <th>MTRANS_Walking</th>\n",
       "      <th>FAVC_z</th>\n",
       "      <th>FCVC_minmax</th>\n",
       "      <th>NCP_z</th>\n",
       "      <th>CAEC_minmax</th>\n",
       "      <th>CH2O_minmax</th>\n",
       "      <th>FAF_minmax</th>\n",
       "      <th>TUE_z</th>\n",
       "      <th>CALC_z</th>\n",
       "      <th>Age_bin_minmax</th>\n",
       "      <th>NObeyesdad</th>\n",
       "    </tr>\n",
       "  </thead>\n",
       "  <tbody>\n",
       "    <tr>\n",
       "      <th>count</th>\n",
       "      <td>2086.000000</td>\n",
       "      <td>2086.000000</td>\n",
       "      <td>2086.000000</td>\n",
       "      <td>2086.000000</td>\n",
       "      <td>2086.000000</td>\n",
       "      <td>2086.000000</td>\n",
       "      <td>2086.000000</td>\n",
       "      <td>2086.000000</td>\n",
       "      <td>2086.000000</td>\n",
       "      <td>2086.000000</td>\n",
       "      <td>2086.000000</td>\n",
       "      <td>2086.000000</td>\n",
       "      <td>2086.000000</td>\n",
       "      <td>2086.000000</td>\n",
       "      <td>2086.000000</td>\n",
       "    </tr>\n",
       "    <tr>\n",
       "      <th>mean</th>\n",
       "      <td>1.702045</td>\n",
       "      <td>86.622985</td>\n",
       "      <td>0.817354</td>\n",
       "      <td>0.045062</td>\n",
       "      <td>0.026366</td>\n",
       "      <td>0.639326</td>\n",
       "      <td>0.709818</td>\n",
       "      <td>0.763670</td>\n",
       "      <td>0.379834</td>\n",
       "      <td>0.504361</td>\n",
       "      <td>0.337873</td>\n",
       "      <td>0.843202</td>\n",
       "      <td>0.855417</td>\n",
       "      <td>0.499760</td>\n",
       "      <td>3.110259</td>\n",
       "    </tr>\n",
       "    <tr>\n",
       "      <th>std</th>\n",
       "      <td>0.093419</td>\n",
       "      <td>26.256245</td>\n",
       "      <td>0.386469</td>\n",
       "      <td>0.207491</td>\n",
       "      <td>0.160260</td>\n",
       "      <td>0.769120</td>\n",
       "      <td>0.267493</td>\n",
       "      <td>0.645761</td>\n",
       "      <td>0.155956</td>\n",
       "      <td>0.306578</td>\n",
       "      <td>0.283687</td>\n",
       "      <td>0.537726</td>\n",
       "      <td>0.518064</td>\n",
       "      <td>0.353723</td>\n",
       "      <td>1.993832</td>\n",
       "    </tr>\n",
       "    <tr>\n",
       "      <th>min</th>\n",
       "      <td>1.450000</td>\n",
       "      <td>39.000000</td>\n",
       "      <td>0.000000</td>\n",
       "      <td>0.000000</td>\n",
       "      <td>0.000000</td>\n",
       "      <td>0.361418</td>\n",
       "      <td>0.000000</td>\n",
       "      <td>0.002375</td>\n",
       "      <td>0.000000</td>\n",
       "      <td>0.000000</td>\n",
       "      <td>0.000000</td>\n",
       "      <td>0.000146</td>\n",
       "      <td>0.516552</td>\n",
       "      <td>0.000000</td>\n",
       "      <td>0.000000</td>\n",
       "    </tr>\n",
       "    <tr>\n",
       "      <th>25%</th>\n",
       "      <td>1.630000</td>\n",
       "      <td>65.130595</td>\n",
       "      <td>1.000000</td>\n",
       "      <td>0.000000</td>\n",
       "      <td>0.000000</td>\n",
       "      <td>0.361418</td>\n",
       "      <td>0.500000</td>\n",
       "      <td>0.404704</td>\n",
       "      <td>0.333333</td>\n",
       "      <td>0.291005</td>\n",
       "      <td>0.042901</td>\n",
       "      <td>0.466622</td>\n",
       "      <td>0.516552</td>\n",
       "      <td>0.250000</td>\n",
       "      <td>1.000000</td>\n",
       "    </tr>\n",
       "    <tr>\n",
       "      <th>50%</th>\n",
       "      <td>1.701383</td>\n",
       "      <td>83.000000</td>\n",
       "      <td>1.000000</td>\n",
       "      <td>0.000000</td>\n",
       "      <td>0.000000</td>\n",
       "      <td>0.361418</td>\n",
       "      <td>0.695087</td>\n",
       "      <td>0.404704</td>\n",
       "      <td>0.333333</td>\n",
       "      <td>0.500000</td>\n",
       "      <td>0.333333</td>\n",
       "      <td>0.813973</td>\n",
       "      <td>0.516552</td>\n",
       "      <td>0.500000</td>\n",
       "      <td>3.000000</td>\n",
       "    </tr>\n",
       "    <tr>\n",
       "      <th>75%</th>\n",
       "      <td>1.768770</td>\n",
       "      <td>108.009452</td>\n",
       "      <td>1.000000</td>\n",
       "      <td>0.000000</td>\n",
       "      <td>0.000000</td>\n",
       "      <td>0.361418</td>\n",
       "      <td>1.000000</td>\n",
       "      <td>1.031717</td>\n",
       "      <td>0.333333</td>\n",
       "      <td>0.740243</td>\n",
       "      <td>0.557356</td>\n",
       "      <td>1.092724</td>\n",
       "      <td>1.439033</td>\n",
       "      <td>0.750000</td>\n",
       "      <td>5.000000</td>\n",
       "    </tr>\n",
       "    <tr>\n",
       "      <th>max</th>\n",
       "      <td>1.980000</td>\n",
       "      <td>165.057269</td>\n",
       "      <td>1.000000</td>\n",
       "      <td>1.000000</td>\n",
       "      <td>1.000000</td>\n",
       "      <td>2.766876</td>\n",
       "      <td>1.000000</td>\n",
       "      <td>2.164116</td>\n",
       "      <td>1.000000</td>\n",
       "      <td>1.000000</td>\n",
       "      <td>1.000000</td>\n",
       "      <td>2.194694</td>\n",
       "      <td>4.427721</td>\n",
       "      <td>1.000000</td>\n",
       "      <td>6.000000</td>\n",
       "    </tr>\n",
       "  </tbody>\n",
       "</table>\n",
       "</div>"
      ],
      "text/plain": [
       "            Height       Weight  family_history_with_overweight          SCC  \\\n",
       "count  2086.000000  2086.000000                     2086.000000  2086.000000   \n",
       "mean      1.702045    86.622985                        0.817354     0.045062   \n",
       "std       0.093419    26.256245                        0.386469     0.207491   \n",
       "min       1.450000    39.000000                        0.000000     0.000000   \n",
       "25%       1.630000    65.130595                        1.000000     0.000000   \n",
       "50%       1.701383    83.000000                        1.000000     0.000000   \n",
       "75%       1.768770   108.009452                        1.000000     0.000000   \n",
       "max       1.980000   165.057269                        1.000000     1.000000   \n",
       "\n",
       "       MTRANS_Walking       FAVC_z  FCVC_minmax        NCP_z  CAEC_minmax  \\\n",
       "count     2086.000000  2086.000000  2086.000000  2086.000000  2086.000000   \n",
       "mean         0.026366     0.639326     0.709818     0.763670     0.379834   \n",
       "std          0.160260     0.769120     0.267493     0.645761     0.155956   \n",
       "min          0.000000     0.361418     0.000000     0.002375     0.000000   \n",
       "25%          0.000000     0.361418     0.500000     0.404704     0.333333   \n",
       "50%          0.000000     0.361418     0.695087     0.404704     0.333333   \n",
       "75%          0.000000     0.361418     1.000000     1.031717     0.333333   \n",
       "max          1.000000     2.766876     1.000000     2.164116     1.000000   \n",
       "\n",
       "       CH2O_minmax   FAF_minmax        TUE_z       CALC_z  Age_bin_minmax  \\\n",
       "count  2086.000000  2086.000000  2086.000000  2086.000000     2086.000000   \n",
       "mean      0.504361     0.337873     0.843202     0.855417        0.499760   \n",
       "std       0.306578     0.283687     0.537726     0.518064        0.353723   \n",
       "min       0.000000     0.000000     0.000146     0.516552        0.000000   \n",
       "25%       0.291005     0.042901     0.466622     0.516552        0.250000   \n",
       "50%       0.500000     0.333333     0.813973     0.516552        0.500000   \n",
       "75%       0.740243     0.557356     1.092724     1.439033        0.750000   \n",
       "max       1.000000     1.000000     2.194694     4.427721        1.000000   \n",
       "\n",
       "        NObeyesdad  \n",
       "count  2086.000000  \n",
       "mean      3.110259  \n",
       "std       1.993832  \n",
       "min       0.000000  \n",
       "25%       1.000000  \n",
       "50%       3.000000  \n",
       "75%       5.000000  \n",
       "max       6.000000  "
      ]
     },
     "execution_count": 5,
     "metadata": {},
     "output_type": "execute_result"
    }
   ],
   "source": [
    "data.describe()"
   ]
  },
  {
   "cell_type": "code",
   "execution_count": 6,
   "metadata": {},
   "outputs": [
    {
     "data": {
      "text/plain": [
       "Height                            0\n",
       "Weight                            0\n",
       "family_history_with_overweight    0\n",
       "SCC                               0\n",
       "MTRANS_Walking                    0\n",
       "FAVC_z                            0\n",
       "FCVC_minmax                       0\n",
       "NCP_z                             0\n",
       "CAEC_minmax                       0\n",
       "CH2O_minmax                       0\n",
       "FAF_minmax                        0\n",
       "TUE_z                             0\n",
       "CALC_z                            0\n",
       "Age_bin_minmax                    0\n",
       "NObeyesdad                        0\n",
       "dtype: int64"
      ]
     },
     "execution_count": 6,
     "metadata": {},
     "output_type": "execute_result"
    }
   ],
   "source": [
    "data.isnull().sum()"
   ]
  },
  {
   "cell_type": "code",
   "execution_count": 40,
   "metadata": {},
   "outputs": [],
   "source": [
    "count = data.iloc[:,14].value_counts()"
   ]
  },
  {
   "cell_type": "code",
   "execution_count": 41,
   "metadata": {},
   "outputs": [
    {
     "data": {
      "text/plain": [
       "NObeyesdad\n",
       "4    342\n",
       "6    323\n",
       "5    297\n",
       "2    289\n",
       "1    285\n",
       "3    278\n",
       "0    272\n",
       "Name: count, dtype: int64"
      ]
     },
     "execution_count": 41,
     "metadata": {},
     "output_type": "execute_result"
    }
   ],
   "source": [
    "count"
   ]
  },
  {
   "cell_type": "code",
   "execution_count": 46,
   "metadata": {},
   "outputs": [
    {
     "data": {
      "image/png": "[encoded data removed]",
      "text/plain": [
       "<Figure size 640x480 with 1 Axes>"
      ]
     },
     "metadata": {},
     "output_type": "display_data"
    }
   ],
   "source": [
    "plt.bar(count.index, count.values, color='lightgreen')\n",
    "plt.title('Distribution of Classes in Target Column')\n",
    "plt.xlabel('Target classification')\n",
    "plt.ylabel('Counts')\n",
    "plt.show()"
   ]
  },
  {
   "cell_type": "markdown",
   "metadata": {},
   "source": [
    "## Step 4: Split the Dataset\n",
    "\n",
    "The dataset is split into:\n",
    "- **Features (x)**: Independent variables used for prediction.\n",
    "- **Target (y)**: Dependent variable (multi-class target).\n",
    "\n",
    "Additionally, the dataset is divided into:\n",
    "- **Training Set**: Used to train the model.\n",
    "- **Test Set**: Used to evaluate the model's performance.\n"
   ]
  },
  {
   "cell_type": "code",
   "execution_count": 7,
   "metadata": {},
   "outputs": [],
   "source": [
    "x = data.iloc[:,0:14]"
   ]
  },
  {
   "cell_type": "code",
   "execution_count": 8,
   "metadata": {},
   "outputs": [
    {
     "data": {
      "text/html": [
       "<div>\n",
       "<style scoped>\n",
       "    .dataframe tbody tr th:only-of-type {\n",
       "        vertical-align: middle;\n",
       "    }\n",
       "\n",
       "    .dataframe tbody tr th {\n",
       "        vertical-align: top;\n",
       "    }\n",
       "\n",
       "    .dataframe thead th {\n",
       "        text-align: right;\n",
       "    }\n",
       "</style>\n",
       "<table border=\"1\" class=\"dataframe\">\n",
       "  <thead>\n",
       "    <tr style=\"text-align: right;\">\n",
       "      <th></th>\n",
       "      <th>Height</th>\n",
       "      <th>Weight</th>\n",
       "      <th>family_history_with_overweight</th>\n",
       "      <th>SCC</th>\n",
       "      <th>MTRANS_Walking</th>\n",
       "      <th>FAVC_z</th>\n",
       "      <th>FCVC_minmax</th>\n",
       "      <th>NCP_z</th>\n",
       "      <th>CAEC_minmax</th>\n",
       "      <th>CH2O_minmax</th>\n",
       "      <th>FAF_minmax</th>\n",
       "      <th>TUE_z</th>\n",
       "      <th>CALC_z</th>\n",
       "      <th>Age_bin_minmax</th>\n",
       "    </tr>\n",
       "  </thead>\n",
       "  <tbody>\n",
       "    <tr>\n",
       "      <th>0</th>\n",
       "      <td>1.62</td>\n",
       "      <td>64.0</td>\n",
       "      <td>1</td>\n",
       "      <td>0</td>\n",
       "      <td>0</td>\n",
       "      <td>2.766876</td>\n",
       "      <td>0.5</td>\n",
       "      <td>0.404704</td>\n",
       "      <td>0.333333</td>\n",
       "      <td>0.5</td>\n",
       "      <td>0.000000</td>\n",
       "      <td>0.550985</td>\n",
       "      <td>1.439033</td>\n",
       "      <td>0.25</td>\n",
       "    </tr>\n",
       "    <tr>\n",
       "      <th>1</th>\n",
       "      <td>1.52</td>\n",
       "      <td>56.0</td>\n",
       "      <td>1</td>\n",
       "      <td>1</td>\n",
       "      <td>0</td>\n",
       "      <td>2.766876</td>\n",
       "      <td>1.0</td>\n",
       "      <td>0.404704</td>\n",
       "      <td>0.333333</td>\n",
       "      <td>1.0</td>\n",
       "      <td>1.000000</td>\n",
       "      <td>1.092724</td>\n",
       "      <td>0.516552</td>\n",
       "      <td>0.25</td>\n",
       "    </tr>\n",
       "    <tr>\n",
       "      <th>2</th>\n",
       "      <td>1.80</td>\n",
       "      <td>77.0</td>\n",
       "      <td>1</td>\n",
       "      <td>0</td>\n",
       "      <td>0</td>\n",
       "      <td>2.766876</td>\n",
       "      <td>0.5</td>\n",
       "      <td>0.404704</td>\n",
       "      <td>0.333333</td>\n",
       "      <td>0.5</td>\n",
       "      <td>0.666667</td>\n",
       "      <td>0.550985</td>\n",
       "      <td>2.472136</td>\n",
       "      <td>0.50</td>\n",
       "    </tr>\n",
       "    <tr>\n",
       "      <th>3</th>\n",
       "      <td>1.80</td>\n",
       "      <td>87.0</td>\n",
       "      <td>0</td>\n",
       "      <td>0</td>\n",
       "      <td>1</td>\n",
       "      <td>2.766876</td>\n",
       "      <td>1.0</td>\n",
       "      <td>0.404704</td>\n",
       "      <td>0.333333</td>\n",
       "      <td>0.5</td>\n",
       "      <td>0.666667</td>\n",
       "      <td>1.092724</td>\n",
       "      <td>2.472136</td>\n",
       "      <td>0.75</td>\n",
       "    </tr>\n",
       "    <tr>\n",
       "      <th>4</th>\n",
       "      <td>1.78</td>\n",
       "      <td>89.8</td>\n",
       "      <td>0</td>\n",
       "      <td>0</td>\n",
       "      <td>0</td>\n",
       "      <td>2.766876</td>\n",
       "      <td>0.5</td>\n",
       "      <td>2.164116</td>\n",
       "      <td>0.333333</td>\n",
       "      <td>0.5</td>\n",
       "      <td>0.000000</td>\n",
       "      <td>1.092724</td>\n",
       "      <td>0.516552</td>\n",
       "      <td>0.50</td>\n",
       "    </tr>\n",
       "  </tbody>\n",
       "</table>\n",
       "</div>"
      ],
      "text/plain": [
       "   Height  Weight  family_history_with_overweight  SCC  MTRANS_Walking  \\\n",
       "0    1.62    64.0                               1    0               0   \n",
       "1    1.52    56.0                               1    1               0   \n",
       "2    1.80    77.0                               1    0               0   \n",
       "3    1.80    87.0                               0    0               1   \n",
       "4    1.78    89.8                               0    0               0   \n",
       "\n",
       "     FAVC_z  FCVC_minmax     NCP_z  CAEC_minmax  CH2O_minmax  FAF_minmax  \\\n",
       "0  2.766876          0.5  0.404704     0.333333          0.5    0.000000   \n",
       "1  2.766876          1.0  0.404704     0.333333          1.0    1.000000   \n",
       "2  2.766876          0.5  0.404704     0.333333          0.5    0.666667   \n",
       "3  2.766876          1.0  0.404704     0.333333          0.5    0.666667   \n",
       "4  2.766876          0.5  2.164116     0.333333          0.5    0.000000   \n",
       "\n",
       "      TUE_z    CALC_z  Age_bin_minmax  \n",
       "0  0.550985  1.439033            0.25  \n",
       "1  1.092724  0.516552            0.25  \n",
       "2  0.550985  2.472136            0.50  \n",
       "3  1.092724  2.472136            0.75  \n",
       "4  1.092724  0.516552            0.50  "
      ]
     },
     "execution_count": 8,
     "metadata": {},
     "output_type": "execute_result"
    }
   ],
   "source": [
    "x.head()"
   ]
  },
  {
   "cell_type": "code",
   "execution_count": 9,
   "metadata": {},
   "outputs": [],
   "source": [
    "y = data.iloc[:,14]"
   ]
  },
  {
   "cell_type": "code",
   "execution_count": 10,
   "metadata": {},
   "outputs": [
    {
     "data": {
      "text/plain": [
       "0       1\n",
       "1       1\n",
       "2       1\n",
       "3       2\n",
       "4       3\n",
       "       ..\n",
       "2081    6\n",
       "2082    6\n",
       "2083    6\n",
       "2084    6\n",
       "2085    6\n",
       "Name: NObeyesdad, Length: 2086, dtype: int64"
      ]
     },
     "execution_count": 10,
     "metadata": {},
     "output_type": "execute_result"
    }
   ],
   "source": [
    "y"
   ]
  },
  {
   "cell_type": "code",
   "execution_count": 18,
   "metadata": {},
   "outputs": [],
   "source": [
    "x_train, x_test, y_train, y_test = train_test_split(x,y,test_size=0.2, random_state=43)"
   ]
  },
  {
   "cell_type": "markdown",
   "metadata": {},
   "source": [
    "## Step 5: Scale the Features\n",
    "\n",
    "Feature scaling is applied using **StandardScaler** to normalize the feature values, ensuring they contribute equally to the model's learning process.\n"
   ]
  },
  {
   "cell_type": "code",
   "execution_count": 19,
   "metadata": {},
   "outputs": [],
   "source": [
    "scaler = StandardScaler()"
   ]
  },
  {
   "cell_type": "code",
   "execution_count": 20,
   "metadata": {},
   "outputs": [],
   "source": [
    "x_train = scaler.fit_transform(x_train)"
   ]
  },
  {
   "cell_type": "code",
   "execution_count": 21,
   "metadata": {},
   "outputs": [],
   "source": [
    "x_test = scaler.fit_transform(x_test)"
   ]
  },
  {
   "cell_type": "markdown",
   "metadata": {},
   "source": [
    "## Step 6: Train the Model\n",
    "\n",
    "A **Logistic Regression** model is trained.\n",
    "- `max_iter=1000`: Maximum number of iterations for convergence.\n",
    "\n",
    "The model learns the relationships between the features and the target variable."
   ]
  },
  {
   "cell_type": "code",
   "execution_count": 23,
   "metadata": {},
   "outputs": [
    {
     "name": "stdout",
     "output_type": "stream",
     "text": [
      "Model trained successfully!\n"
     ]
    }
   ],
   "source": [
    "# Train a Logistic Regression model\n",
    "model = LogisticRegression(max_iter=1000)\n",
    "model.fit(x_train, y_train)\n",
    "\n",
    "print(\"Model trained successfully!\")\n"
   ]
  },
  {
   "cell_type": "markdown",
   "metadata": {},
   "source": [
    "## Step 7: Evaluate the Model\n",
    "\n",
    "The model is evaluated using:\n",
    "1. **Accuracy**: The proportion of correctly predicted instances.\n",
    "2. **Confusion Matrix**: A matrix that displays true positives, true negatives, false positives, and false negatives for each class.\n",
    "\n",
    "These metrics help assess the overall performance of the multi-class classification model.\n"
   ]
  },
  {
   "cell_type": "code",
   "execution_count": 24,
   "metadata": {},
   "outputs": [
    {
     "name": "stdout",
     "output_type": "stream",
     "text": [
      "Accuracy: 0.8827751196172249\n",
      "\n",
      "Confusion Matrix:\n",
      " [[52  1  0  0  0  0  0]\n",
      " [ 6 41  6  0  0  0  0]\n",
      " [ 0  4 48  9  0  0  0]\n",
      " [ 0  0 12 33  1  0  0]\n",
      " [ 0  0  1  3 63  4  0]\n",
      " [ 0  0  0  0  2 66  0]\n",
      " [ 0  0  0  0  0  0 66]]\n"
     ]
    }
   ],
   "source": [
    "# Make predictions\n",
    "y_pred = model.predict(x_test)\n",
    "\n",
    "# Evaluate the model\n",
    "accuracy = accuracy_score(y_test, y_pred)\n",
    "print(f\"Accuracy: {accuracy}\")\n",
    "print(\"\\nConfusion Matrix:\\n\", confusion_matrix(y_test, y_pred))\n"
   ]
  },
  {
   "cell_type": "markdown",
   "metadata": {},
   "source": []
  },
  {
   "cell_type": "markdown",
   "metadata": {},
   "source": [
    "## Step 8: Visualize the Confusion Matrix\n",
    "\n",
    "The **Confusion Matrix** is visualized using a heatmap.  \n",
    "This visualization provides insights into the model's performance for each class and helps identify misclassifications.\n"
   ]
  },
  {
   "cell_type": "code",
   "execution_count": 30,
   "metadata": {},
   "outputs": [
    {
     "data": {
      "image/png": "[encoded data removed]",
      "text/plain": [
       "<Figure size 640x480 with 2 Axes>"
      ]
     },
     "metadata": {},
     "output_type": "display_data"
    }
   ],
   "source": [
    "# Visualize confusion matrix\n",
    "conf_matrix = confusion_matrix(y_test, y_pred)\n",
    "\n",
    "sns.heatmap(conf_matrix, annot = True, cmap='Blues')\n",
    "plt.title('Confusion Matrix')\n",
    "plt.xlabel('Predicted Classes')\n",
    "plt.ylabel('Actual Classes')\n",
    "plt.show()\n"
   ]
  },
  {
   "cell_type": "markdown",
   "metadata": {},
   "source": [
    "## Step 9: Compare Actual and Predicted Values\n",
    "\n",
    "A DataFrame is created to compare the **actual values** (`y_test`) and the **predicted values** (`y_pred`).  \n",
    "This helps visualize how well the model performs for individual instances.\n"
   ]
  },
  {
   "cell_type": "code",
   "execution_count": 32,
   "metadata": {},
   "outputs": [],
   "source": [
    "# Compare y_test and y_pred in a DataFrame\n",
    "comparison = pd.DataFrame({'Actual': y_test, 'Predicted': y_pred})\n"
   ]
  },
  {
   "cell_type": "code",
   "execution_count": 33,
   "metadata": {},
   "outputs": [
    {
     "data": {
      "text/html": [
       "<div>\n",
       "<style scoped>\n",
       "    .dataframe tbody tr th:only-of-type {\n",
       "        vertical-align: middle;\n",
       "    }\n",
       "\n",
       "    .dataframe tbody tr th {\n",
       "        vertical-align: top;\n",
       "    }\n",
       "\n",
       "    .dataframe thead th {\n",
       "        text-align: right;\n",
       "    }\n",
       "</style>\n",
       "<table border=\"1\" class=\"dataframe\">\n",
       "  <thead>\n",
       "    <tr style=\"text-align: right;\">\n",
       "      <th></th>\n",
       "      <th>Actual</th>\n",
       "      <th>Predicted</th>\n",
       "    </tr>\n",
       "  </thead>\n",
       "  <tbody>\n",
       "    <tr>\n",
       "      <th>370</th>\n",
       "      <td>1</td>\n",
       "      <td>2</td>\n",
       "    </tr>\n",
       "    <tr>\n",
       "      <th>1245</th>\n",
       "      <td>4</td>\n",
       "      <td>4</td>\n",
       "    </tr>\n",
       "    <tr>\n",
       "      <th>23</th>\n",
       "      <td>1</td>\n",
       "      <td>0</td>\n",
       "    </tr>\n",
       "    <tr>\n",
       "      <th>1299</th>\n",
       "      <td>4</td>\n",
       "      <td>4</td>\n",
       "    </tr>\n",
       "    <tr>\n",
       "      <th>1407</th>\n",
       "      <td>4</td>\n",
       "      <td>4</td>\n",
       "    </tr>\n",
       "  </tbody>\n",
       "</table>\n",
       "</div>"
      ],
      "text/plain": [
       "      Actual  Predicted\n",
       "370        1          2\n",
       "1245       4          4\n",
       "23         1          0\n",
       "1299       4          4\n",
       "1407       4          4"
      ]
     },
     "execution_count": 33,
     "metadata": {},
     "output_type": "execute_result"
    }
   ],
   "source": [
    "comparison.head()"
   ]
  },
  {
   "cell_type": "markdown",
   "metadata": {},
   "source": [
    "## Step 10: Save the Model\n",
    "\n",
    "The trained model is saved using **Joblib** for future use.  \n",
    "This allows reloading the model for predictions without retraining.\n"
   ]
  },
  {
   "cell_type": "code",
   "execution_count": 34,
   "metadata": {},
   "outputs": [
    {
     "name": "stdout",
     "output_type": "stream",
     "text": [
      "Model saved as 'multi_class_model.joblib'\n"
     ]
    }
   ],
   "source": [
    "# Save the model using Joblib\n",
    "import joblib\n",
    "joblib.dump(model, 'multi_class_model.joblib')\n",
    "\n",
    "print(\"Model saved as 'multi_class_model.joblib'\")"
   ]
  },
  {
   "cell_type": "markdown",
   "metadata": {},
   "source": [
    "## Step 11: Conclusion\n",
    "\n",
    "The model achieved an **accuracy score of 0.88**, indicating that it correctly classified 88% of the instances in the test set.\n",
    "\n",
    "### Key Observations:\n",
    "- The model demonstrates a good level of accuracy for a multi-class classification task.\n",
    "- The comparison between actual and predicted values, along with the confusion matrix, shows the model's performance across all classes.\n",
    "\n",
    "\n",
    "Overall, the Logistic Regression model provided a solid baseline for this multi-class classification problem.\n"
   ]
  }
 ],
 "metadata": {
  "kernelspec": {
   "display_name": "Python 3",
   "language": "python",
   "name": "python3"
  },
  "language_info": {
   "codemirror_mode": {
    "name": "ipython",
    "version": 3
   },
   "file_extension": ".py",
   "mimetype": "text/x-python",
   "name": "python",
   "nbconvert_exporter": "python",
   "pygments_lexer": "ipython3",
   "version": "3.12.3"
  }
 },
 "nbformat": 4,
 "nbformat_minor": 2
}
